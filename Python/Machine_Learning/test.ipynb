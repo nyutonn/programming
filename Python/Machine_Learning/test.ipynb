{
 "cells": [
  {
   "cell_type": "code",
   "execution_count": 3,
   "metadata": {},
   "outputs": [
    {
     "data": {
      "text/plain": [
       "([0, 1, 2, 3], [4, 5, 6, 7, 8, 9])"
      ]
     },
     "execution_count": 3,
     "metadata": {},
     "output_type": "execute_result"
    }
   ],
   "source": [
    "alist = [i for i in range(10)]\n",
    "alist[:4], alist[4:]"
   ]
  },
  {
   "cell_type": "code",
   "execution_count": 1,
   "metadata": {},
   "outputs": [
    {
     "name": "stdout",
     "output_type": "stream",
     "text": [
      "[[9 8 5]\n",
      " [2 3 1]\n",
      " [0 4 7]]\n",
      "[8 3 4]\n",
      "[1 2 0]\n",
      "[[2 3 1]\n",
      " [0 4 7]\n",
      " [9 8 5]]\n"
     ]
    }
   ],
   "source": [
    "# 2次元行列を特定の列でソートする\n",
    "import numpy as np\n",
    "a = np.array([[9, 8, 5], [2, 3, 1], [0, 4, 7]])\n",
    "print(a)                       # 行列の表示\n",
    "print(a[:, 1])                 # 1列目を取り出す\n",
    "print(np.argsort(a[:, 1]))     # ソートしたときのindex\n",
    "print(a[np.argsort(a[:, 1])])  # ソート完了！"
   ]
  },
  {
   "cell_type": "code",
   "execution_count": 2,
   "metadata": {},
   "outputs": [
    {
     "data": {
      "text/plain": [
       "array([0, 1])"
      ]
     },
     "execution_count": 2,
     "metadata": {},
     "output_type": "execute_result"
    }
   ],
   "source": [
    "import numpy as np\n",
    "np.array([0, 1])"
   ]
  }
 ],
 "metadata": {
  "kernelspec": {
   "display_name": "base",
   "language": "python",
   "name": "python3"
  },
  "language_info": {
   "codemirror_mode": {
    "name": "ipython",
    "version": 3
   },
   "file_extension": ".py",
   "mimetype": "text/x-python",
   "name": "python",
   "nbconvert_exporter": "python",
   "pygments_lexer": "ipython3",
   "version": "3.9.13"
  },
  "orig_nbformat": 4
 },
 "nbformat": 4,
 "nbformat_minor": 2
}
