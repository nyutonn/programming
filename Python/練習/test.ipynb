{
 "cells": [
  {
   "cell_type": "code",
   "execution_count": 2,
   "metadata": {},
   "outputs": [
    {
     "name": "stdout",
     "output_type": "stream",
     "text": [
      "5\n"
     ]
    }
   ],
   "source": [
    "alist = [1, 2, 3, 4, 5]\n",
    "if (a := len(alist)) > 3:\n",
    "    print(a) # 5"
   ]
  },
  {
   "cell_type": "code",
   "execution_count": 8,
   "metadata": {},
   "outputs": [
    {
     "name": "stdout",
     "output_type": "stream",
     "text": [
      "6/11(日) 10:00〜\n",
      "6/11(日) 13:00〜\n",
      "6/11(日) 17:00〜\n",
      "6/11(日) 18:00〜\n",
      "6/11(日) 19:00〜\n",
      "6/11(日) 20:00〜\n",
      "6/12(月) 10:00〜\n",
      "6/12(月) 13:00〜\n",
      "6/12(月) 17:00〜\n",
      "6/12(月) 18:00〜\n",
      "6/12(月) 19:00〜\n",
      "6/12(月) 20:00〜\n",
      "6/13(火) 10:00〜\n",
      "6/13(火) 13:00〜\n",
      "6/13(火) 17:00〜\n",
      "6/13(火) 18:00〜\n",
      "6/13(火) 19:00〜\n",
      "6/13(火) 20:00〜\n",
      "6/14(水) 10:00〜\n",
      "6/14(水) 13:00〜\n",
      "6/14(水) 17:00〜\n",
      "6/14(水) 18:00〜\n",
      "6/14(水) 19:00〜\n",
      "6/14(水) 20:00〜\n",
      "6/15(木) 10:00〜\n",
      "6/15(木) 13:00〜\n",
      "6/15(木) 17:00〜\n",
      "6/15(木) 18:00〜\n",
      "6/15(木) 19:00〜\n",
      "6/15(木) 20:00〜\n",
      "6/16(金) 10:00〜\n",
      "6/16(金) 13:00〜\n",
      "6/16(金) 17:00〜\n",
      "6/16(金) 18:00〜\n",
      "6/16(金) 19:00〜\n",
      "6/16(金) 20:00〜\n",
      "6/17(土) 10:00〜\n",
      "6/17(土) 13:00〜\n",
      "6/17(土) 17:00〜\n",
      "6/17(土) 18:00〜\n",
      "6/17(土) 19:00〜\n",
      "6/17(土) 20:00〜\n",
      "6/18(日) 10:00〜\n",
      "6/18(日) 13:00〜\n",
      "6/18(日) 17:00〜\n",
      "6/18(日) 18:00〜\n",
      "6/18(日) 19:00〜\n",
      "6/18(日) 20:00〜\n",
      "6/19(月) 10:00〜\n",
      "6/19(月) 13:00〜\n",
      "6/19(月) 17:00〜\n",
      "6/19(月) 18:00〜\n",
      "6/19(月) 19:00〜\n",
      "6/19(月) 20:00〜\n",
      "6/20(火) 10:00〜\n",
      "6/20(火) 13:00〜\n",
      "6/20(火) 17:00〜\n",
      "6/20(火) 18:00〜\n",
      "6/20(火) 19:00〜\n",
      "6/20(火) 20:00〜\n",
      "6/21(水) 10:00〜\n",
      "6/21(水) 13:00〜\n",
      "6/21(水) 17:00〜\n",
      "6/21(水) 18:00〜\n",
      "6/21(水) 19:00〜\n",
      "6/21(水) 20:00〜\n",
      "6/22(木) 10:00〜\n",
      "6/22(木) 13:00〜\n",
      "6/22(木) 17:00〜\n",
      "6/22(木) 18:00〜\n",
      "6/22(木) 19:00〜\n",
      "6/22(木) 20:00〜\n",
      "6/23(金) 10:00〜\n",
      "6/23(金) 13:00〜\n",
      "6/23(金) 17:00〜\n",
      "6/23(金) 18:00〜\n",
      "6/23(金) 19:00〜\n",
      "6/23(金) 20:00〜\n",
      "6/24(土) 10:00〜\n",
      "6/24(土) 13:00〜\n",
      "6/24(土) 17:00〜\n",
      "6/24(土) 18:00〜\n",
      "6/24(土) 19:00〜\n",
      "6/24(土) 20:00〜\n",
      "6/25(日) 10:00〜\n",
      "6/25(日) 13:00〜\n",
      "6/25(日) 17:00〜\n",
      "6/25(日) 18:00〜\n",
      "6/25(日) 19:00〜\n",
      "6/25(日) 20:00〜\n",
      "6/26(月) 10:00〜\n",
      "6/26(月) 13:00〜\n",
      "6/26(月) 17:00〜\n",
      "6/26(月) 18:00〜\n",
      "6/26(月) 19:00〜\n",
      "6/26(月) 20:00〜\n",
      "6/27(火) 10:00〜\n",
      "6/27(火) 13:00〜\n",
      "6/27(火) 17:00〜\n",
      "6/27(火) 18:00〜\n",
      "6/27(火) 19:00〜\n",
      "6/27(火) 20:00〜\n",
      "6/28(水) 10:00〜\n",
      "6/28(水) 13:00〜\n",
      "6/28(水) 17:00〜\n",
      "6/28(水) 18:00〜\n",
      "6/28(水) 19:00〜\n",
      "6/28(水) 20:00〜\n",
      "6/29(木) 10:00〜\n",
      "6/29(木) 13:00〜\n",
      "6/29(木) 17:00〜\n",
      "6/29(木) 18:00〜\n",
      "6/29(木) 19:00〜\n",
      "6/29(木) 20:00〜\n",
      "6/30(金) 10:00〜\n",
      "6/30(金) 13:00〜\n",
      "6/30(金) 17:00〜\n",
      "6/30(金) 18:00〜\n",
      "6/30(金) 19:00〜\n",
      "6/30(金) 20:00〜\n"
     ]
    }
   ],
   "source": [
    "# 日程調整\n",
    "day_of_weeks = ['月', '火', '水', '木', '金', '土', '日']\n",
    "for day in range(11, 31):\n",
    "    for hour in [10, 13, 17, 18, 19, 20]:\n",
    "        print(f'6/{day}({day_of_weeks[(day+2)%7]}) {hour}:00〜')"
   ]
  },
  {
   "cell_type": "code",
   "execution_count": 3,
   "metadata": {},
   "outputs": [
    {
     "data": {
      "text/plain": [
       "True"
      ]
     },
     "execution_count": 3,
     "metadata": {},
     "output_type": "execute_result"
    }
   ],
   "source": [
    "'a' == 'a'"
   ]
  },
  {
   "cell_type": "code",
   "execution_count": 5,
   "metadata": {},
   "outputs": [
    {
     "data": {
      "text/plain": [
       "True"
      ]
     },
     "execution_count": 5,
     "metadata": {},
     "output_type": "execute_result"
    }
   ],
   "source": [
    "1 != 0"
   ]
  },
  {
   "cell_type": "code",
   "execution_count": 6,
   "metadata": {},
   "outputs": [
    {
     "data": {
      "text/plain": [
       "False"
      ]
     },
     "execution_count": 6,
     "metadata": {},
     "output_type": "execute_result"
    }
   ],
   "source": [
    "10 != 10"
   ]
  },
  {
   "cell_type": "code",
   "execution_count": 7,
   "metadata": {},
   "outputs": [
    {
     "name": "stdout",
     "output_type": "stream",
     "text": [
      "0\n",
      "4\n",
      "8\n"
     ]
    }
   ],
   "source": [
    "alist = [i for i in range(10)]\n",
    "for i in range(10):\n",
    "    if i % 4 == 0:\n",
    "        print(i)"
   ]
  },
  {
   "cell_type": "code",
   "execution_count": 12,
   "metadata": {},
   "outputs": [
    {
     "name": "stdout",
     "output_type": "stream",
     "text": [
      "abcde\n"
     ]
    },
    {
     "data": {
      "text/plain": [
       "1"
      ]
     },
     "execution_count": 12,
     "metadata": {},
     "output_type": "execute_result"
    }
   ],
   "source": [
    "import datetime\n",
    "datetime.datetime.now()\n",
    "print('abcde')\n",
    "int(1.4)\n",
    "a = 0\n",
    "b = 1\n",
    "y = a * x + b\n",
    "y(x)"
   ]
  },
  {
   "cell_type": "code",
   "execution_count": 13,
   "metadata": {},
   "outputs": [
    {
     "name": "stdout",
     "output_type": "stream",
     "text": [
      "\n",
      "a\n"
     ]
    }
   ],
   "source": [
    "print()\n",
    "print('a')"
   ]
  },
  {
   "cell_type": "code",
   "execution_count": 16,
   "metadata": {},
   "outputs": [
    {
     "name": "stdout",
     "output_type": "stream",
     "text": [
      "7\n"
     ]
    }
   ],
   "source": [
    "def y():\n",
    "    a = 2\n",
    "    b = 1\n",
    "    x = 3\n",
    "    return a * x + b\n",
    "\n",
    "print(y())"
   ]
  },
  {
   "cell_type": "code",
   "execution_count": 21,
   "metadata": {},
   "outputs": [
    {
     "name": "stdout",
     "output_type": "stream",
     "text": [
      "12\n"
     ]
    }
   ],
   "source": [
    "def add(a, b):\n",
    "    # a = 2\n",
    "    # b = 5\n",
    "    print(a + b)\n",
    "    # return a * b\n",
    "\n",
    "add(3, 9)\n",
    "# print(add(3))"
   ]
  }
 ],
 "metadata": {
  "kernelspec": {
   "display_name": "base",
   "language": "python",
   "name": "python3"
  },
  "language_info": {
   "codemirror_mode": {
    "name": "ipython",
    "version": 3
   },
   "file_extension": ".py",
   "mimetype": "text/x-python",
   "name": "python",
   "nbconvert_exporter": "python",
   "pygments_lexer": "ipython3",
   "version": "3.9.13"
  },
  "orig_nbformat": 4
 },
 "nbformat": 4,
 "nbformat_minor": 2
}
